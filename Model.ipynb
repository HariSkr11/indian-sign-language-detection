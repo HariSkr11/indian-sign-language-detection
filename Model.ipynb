{
  "nbformat": 4,
  "nbformat_minor": 0,
  "metadata": {
    "colab": {
      "provenance": [],
      "collapsed_sections": [
        "QeBPIm_irkLP",
        "3PeXG5Yn865X",
        "LQQtHj2d9Ij0",
        "g6RturzID78m",
        "NQIFeZNYD-qS",
        "isMcrvEJEM_5",
        "1wccpWAnEZRv",
        "NrrhFT3JLnUk",
        "wCL8rQlxEvHA"
      ],
      "gpuType": "T4",
      "authorship_tag": "ABX9TyOXnOMsaoc3gcTqwh6hJjEy",
      "include_colab_link": true
    },
    "kernelspec": {
      "name": "python3",
      "display_name": "Python 3"
    },
    "language_info": {
      "name": "python"
    },
    "accelerator": "GPU"
  },
  "cells": [
    {
      "cell_type": "markdown",
      "metadata": {
        "id": "view-in-github",
        "colab_type": "text"
      },
      "source": [
        "<a href=\"https://colab.research.google.com/github/HariSkr11/indian-sign-language-detection/blob/main/Model.ipynb\" target=\"_parent\"><img src=\"https://colab.research.google.com/assets/colab-badge.svg\" alt=\"Open In Colab\"/></a>"
      ]
    },
    {
      "cell_type": "markdown",
      "source": [
        "# IMPORTING DRIVE"
      ],
      "metadata": {
        "id": "QeBPIm_irkLP"
      }
    },
    {
      "cell_type": "code",
      "execution_count": 1,
      "metadata": {
        "colab": {
          "base_uri": "https://localhost:8080/"
        },
        "id": "Y60RyfqvrYsd",
        "outputId": "382ad919-5f47-4420-f753-16bb708b7e70"
      },
      "outputs": [
        {
          "output_type": "stream",
          "name": "stdout",
          "text": [
            "Drive already mounted at /content/drive; to attempt to forcibly remount, call drive.mount(\"/content/drive\", force_remount=True).\n"
          ]
        }
      ],
      "source": [
        "from google.colab import drive\n",
        "drive.mount(\"/content/drive\")"
      ]
    },
    {
      "cell_type": "markdown",
      "source": [
        "# IMPORTING NECESSARY FUNCTIONS AND MODULES"
      ],
      "metadata": {
        "id": "3PeXG5Yn865X"
      }
    },
    {
      "cell_type": "code",
      "source": [
        "import cv2 as cv\n",
        "import numpy as np\n",
        "import pandas as pd\n",
        "import tensorflow as tf\n",
        "from pickle import load,dump\n",
        "from google.colab.patches import cv2_imshow\n",
        "from matplotlib import pyplot as plt\n",
        "import sklearn"
      ],
      "metadata": {
        "id": "iRaCPbIarwfN"
      },
      "execution_count": 2,
      "outputs": []
    },
    {
      "cell_type": "markdown",
      "source": [
        "# IMPORTING DATA"
      ],
      "metadata": {
        "id": "LQQtHj2d9Ij0"
      }
    },
    {
      "cell_type": "markdown",
      "source": [
        "## IMPORTING TRAIN DATA"
      ],
      "metadata": {
        "id": "g6RturzID78m"
      }
    },
    {
      "cell_type": "code",
      "source": [
        "with open(\"/content/drive/MyDrive/resources_sign/X_train.pkl\",\"rb\") as file_object:\n",
        "  X_train = load(file_object)"
      ],
      "metadata": {
        "id": "1VuQhope9HLM"
      },
      "execution_count": null,
      "outputs": []
    },
    {
      "cell_type": "markdown",
      "source": [
        "## IMPORTING TRAINING LABELS"
      ],
      "metadata": {
        "id": "NQIFeZNYD-qS"
      }
    },
    {
      "cell_type": "code",
      "source": [
        "with open(\"/content/drive/MyDrive/resources_sign/y_train.pkl\",\"rb\") as file_object:\n",
        "  y_train = load(file_object)"
      ],
      "metadata": {
        "id": "oze3GLVEEBiK"
      },
      "execution_count": null,
      "outputs": []
    },
    {
      "cell_type": "markdown",
      "source": [
        "## IMPORTING TESTING DATA"
      ],
      "metadata": {
        "id": "isMcrvEJEM_5"
      }
    },
    {
      "cell_type": "code",
      "source": [
        "with open(\"/content/drive/MyDrive/resources_sign/X_test.pkl\",\"rb\") as file_object:\n",
        "  X_test = load(file_object)"
      ],
      "metadata": {
        "id": "Jc_ohIItEQJH"
      },
      "execution_count": null,
      "outputs": []
    },
    {
      "cell_type": "markdown",
      "source": [
        "## IMPORTING TESTING LABELS"
      ],
      "metadata": {
        "id": "1wccpWAnEZRv"
      }
    },
    {
      "cell_type": "code",
      "source": [
        "with open(\"/content/drive/MyDrive/resources_sign/y_test.pkl\",\"rb\") as file_object:\n",
        "  y_test = load(file_object)"
      ],
      "metadata": {
        "id": "fCZfzp7oEbmV"
      },
      "execution_count": null,
      "outputs": []
    },
    {
      "cell_type": "markdown",
      "source": [
        "## IMPORTING THE LABEL ENCODER"
      ],
      "metadata": {
        "id": "NrrhFT3JLnUk"
      }
    },
    {
      "cell_type": "code",
      "source": [
        "with open(\"/content/drive/MyDrive/resources_sign/Label_encoder.pkl\",\"rb\") as file_object:\n",
        "  label_encoder = load(file_object)"
      ],
      "metadata": {
        "id": "q9Ar0lg2LqiB"
      },
      "execution_count": null,
      "outputs": []
    },
    {
      "cell_type": "markdown",
      "source": [
        "# VISUALIZING AND PREPROCESSING THE DATA"
      ],
      "metadata": {
        "id": "wCL8rQlxEvHA"
      }
    },
    {
      "cell_type": "code",
      "source": [
        "cv2_imshow(X_train[68]*255)"
      ],
      "metadata": {
        "id": "X6TD5fBp9hnn"
      },
      "execution_count": null,
      "outputs": []
    },
    {
      "cell_type": "code",
      "source": [
        "cv2_imshow(X_test[68]*255)"
      ],
      "metadata": {
        "id": "TdI33DtH977R"
      },
      "execution_count": null,
      "outputs": []
    },
    {
      "cell_type": "markdown",
      "source": [
        "## ANALYZING ALL THE LABELS AND THE IMAGES"
      ],
      "metadata": {
        "id": "W9uQo8K7FG03"
      }
    },
    {
      "cell_type": "code",
      "source": [
        "fig,axes = plt.subplots(nrows=2,ncols=4,figsize=(9,7))\n",
        "row = 0\n",
        "col = 0\n",
        "for i in range(9):\n",
        "  if col == 4:\n",
        "    col=0\n",
        "    row+=1\n",
        "    axes[row][col].imshow(X_train[i])\n",
        "    axes[row][col].set_title(label_encoder.inverse_transform([y_train[i]])[0])\n",
        "  else:\n",
        "    axes[row][col].imshow(X_train[i])\n",
        "    axes[row][col].set_title(label_encoder.inverse_transform([y_train[i]])[0])\n",
        "    col+=1"
      ],
      "metadata": {
        "id": "bsb4br9WFMRS"
      },
      "execution_count": null,
      "outputs": []
    },
    {
      "cell_type": "markdown",
      "source": [
        "# APPLYING CANNY EDGE DETECTOR"
      ],
      "metadata": {
        "id": "URloOna5OF3N"
      }
    },
    {
      "cell_type": "markdown",
      "source": [
        "## CHECKING OUT CANNY FILTER"
      ],
      "metadata": {
        "id": "XjZmybpATMKV"
      }
    },
    {
      "cell_type": "code",
      "source": [
        "img = X_train[56]*255\n",
        "grey = cv.cvtColor(img.astype(np.uint8),cv.COLOR_BGR2GRAY)\n",
        "blur = cv.blur(grey,ksize=(5,5))\n",
        "med_val = np.median(blur)\n",
        "lower = int(max(0 ,0.7*med_val))\n",
        "upper = int(min(255,1.3*med_val))\n",
        "cv2_imshow(blur)\n",
        "edges = cv.Canny(image=blur, threshold1=lower,threshold2=upper)\n",
        "cv2_imshow(edges)"
      ],
      "metadata": {
        "id": "WM3PU7fhOI6R"
      },
      "execution_count": null,
      "outputs": []
    },
    {
      "cell_type": "markdown",
      "source": [
        "## MAKING CANNY FUNCTION FOR EVERY IMAGES"
      ],
      "metadata": {
        "id": "0qto2tZtTPKv"
      }
    },
    {
      "cell_type": "code",
      "source": [
        "def apply_canny_filter(img):\n",
        "  img = img*255\n",
        "  img = cv.cvtColor(img.astype(np.uint8),cv.COLOR_BGR2GRAY)\n",
        "  blur = cv.blur(img,ksize=(5,5))\n",
        "  med_val = np.median(blur)\n",
        "  lower = int(max(0 ,0.7*med_val))\n",
        "  upper = int(min(255,1.3*med_val))\n",
        "  return cv.Canny(image=blur, threshold1=lower,threshold2=upper)"
      ],
      "metadata": {
        "id": "q8IoSogUOaNp"
      },
      "execution_count": null,
      "outputs": []
    },
    {
      "cell_type": "markdown",
      "source": [
        "## APPLYING THE FILTER TO EVERY IMAGES"
      ],
      "metadata": {
        "id": "SiEvrST3TT6G"
      }
    },
    {
      "cell_type": "code",
      "source": [
        "X_train_filtered = []\n",
        "for image in X_train:\n",
        "  X_train_filtered.append(apply_canny_filter(image))"
      ],
      "metadata": {
        "id": "mLZU9he0TTYu"
      },
      "execution_count": null,
      "outputs": []
    },
    {
      "cell_type": "code",
      "source": [
        "cv2_imshow(X_train_filtered[1980])"
      ],
      "metadata": {
        "id": "ovR6idJTTkBQ"
      },
      "execution_count": null,
      "outputs": []
    },
    {
      "cell_type": "markdown",
      "source": [
        "## PREPROCESSING TEST SET"
      ],
      "metadata": {
        "id": "HjdHK19WWNe5"
      }
    },
    {
      "cell_type": "code",
      "source": [
        "X_test_filtered = []\n",
        "for image in X_test:\n",
        "  X_test_filtered.append(apply_canny_filter(image))"
      ],
      "metadata": {
        "id": "1HboBpiITvZu"
      },
      "execution_count": null,
      "outputs": []
    },
    {
      "cell_type": "code",
      "source": [
        "cv2_imshow(X_test_filtered[250])"
      ],
      "metadata": {
        "id": "gieQ1Ad0WVOw"
      },
      "execution_count": null,
      "outputs": []
    },
    {
      "cell_type": "markdown",
      "source": [
        "## STORING THE FILTERED DATA BACK AS PKL FILES"
      ],
      "metadata": {
        "id": "wFSZstS4WlOY"
      }
    },
    {
      "cell_type": "code",
      "source": [
        "with open(\"/content/drive/MyDrive/resources_sign/X_train_filtered.pkl\",\"wb\") as file_object:\n",
        "  dump(X_train_filtered,file_object)"
      ],
      "metadata": {
        "id": "Wv2fdDxiWZP_"
      },
      "execution_count": null,
      "outputs": []
    },
    {
      "cell_type": "code",
      "source": [
        "with open(\"/content/drive/MyDrive/resources_sign/X_test_filtered.pkl\",\"wb\") as file_object:\n",
        "  dump(X_test_filtered,file_object)"
      ],
      "metadata": {
        "id": "26mHrnrDW7zz"
      },
      "execution_count": null,
      "outputs": []
    },
    {
      "cell_type": "markdown",
      "source": [
        "# OPENING THE FILTERED DATA FOR TRAINING"
      ],
      "metadata": {
        "id": "qSrFqrXZYk5-"
      }
    },
    {
      "cell_type": "code",
      "source": [
        "from pickle import load,dump\n",
        "with open(\"/content/drive/MyDrive/resources_sign/X_train_filtered.pkl\",\"rb\") as file_object:\n",
        "  X_train_filtered=load(file_object)\n",
        "with open(\"/content/drive/MyDrive/resources_sign/X_test_filtered.pkl\",\"rb\") as file_object:\n",
        "  X_test_filtered=load(file_object)\n",
        "with open(\"/content/drive/MyDrive/resources_sign/y_train.pkl\",\"rb\") as file_object:\n",
        "  y_train=load(file_object)\n",
        "with open(\"/content/drive/MyDrive/resources_sign/y_test.pkl\",\"rb\") as file_object:\n",
        "  y_test=load(file_object)"
      ],
      "metadata": {
        "id": "91rWPr4YYqqd"
      },
      "execution_count": 27,
      "outputs": []
    },
    {
      "cell_type": "markdown",
      "source": [
        "# MAKING THE MODEL"
      ],
      "metadata": {
        "id": "MsG8CaPfgzkN"
      }
    },
    {
      "cell_type": "markdown",
      "source": [
        "## MODELS"
      ],
      "metadata": {
        "id": "Q7_kI67QAQYG"
      }
    },
    {
      "cell_type": "markdown",
      "source": [
        "## MODEL 1"
      ],
      "metadata": {
        "id": "NBsnfdYwTm9K"
      }
    },
    {
      "cell_type": "code",
      "source": [
        "from keras.layers import Dense, Conv2D , MaxPool2D , Flatten , Dropout , BatchNormalization\n",
        "from keras.models import Sequential\n",
        "class Sign_model:\n",
        "  def __init__(self,input_shape,classes = 32):\n",
        "    model = Sequential()\n",
        "    model.add(Conv2D(128, (3, 3), input_shape=(220, 220,1),strides=1, padding='same', activation='relu'))\n",
        "    model.add(BatchNormalization())\n",
        "    model.add(MaxPool2D((2,2) , strides = 2 , padding = 'same'))\n",
        "    model.add(Conv2D(64, (3,3) , strides = 1 , padding = 'same' , activation = 'relu'))\n",
        "    model.add(Dropout(0.3))\n",
        "    model.add(MaxPool2D((2,2) , strides = 2 , padding = 'same'))\n",
        "    model.add(Conv2D(32, (3,3) , strides = 1 , padding = 'same' , activation = 'relu'))\n",
        "    model.add(MaxPool2D((2,2) , strides = 2 , padding = 'same'))\n",
        "    model.add(Flatten())\n",
        "    model.add(Dense(units = 1000 , activation = 'relu'))\n",
        "    model.add(Dropout(0.3))\n",
        "    model.add(Dense(units = 512 , activation = 'relu'))\n",
        "    model.add(Dropout(0.3))\n",
        "    model.add(Dense(units = 32 , activation = 'softmax'))\n",
        "    model.compile(optimizer=\"adam\",metrics = ['accuracy'],loss = \"sparse_categorical_crossentropy\")\n",
        "    self.model = model"
      ],
      "metadata": {
        "id": "xQQX90PdATER"
      },
      "execution_count": null,
      "outputs": []
    },
    {
      "cell_type": "code",
      "source": [
        "model_object = Sign_model((220,220))\n",
        "model = model_object.model"
      ],
      "metadata": {
        "id": "Uk6avr_silsE"
      },
      "execution_count": null,
      "outputs": []
    },
    {
      "cell_type": "code",
      "source": [
        "model.summary()"
      ],
      "metadata": {
        "colab": {
          "base_uri": "https://localhost:8080/"
        },
        "id": "UxJ4-PnT_5MS",
        "outputId": "6303bcc9-d60d-46c2-8f5c-dc1adb3d6800"
      },
      "execution_count": null,
      "outputs": [
        {
          "output_type": "stream",
          "name": "stdout",
          "text": [
            "Model: \"sequential_1\"\n",
            "_________________________________________________________________\n",
            " Layer (type)                Output Shape              Param #   \n",
            "=================================================================\n",
            " conv2d_3 (Conv2D)           (None, 220, 220, 128)     1280      \n",
            "                                                                 \n",
            " batch_normalization_1 (Batc  (None, 220, 220, 128)    512       \n",
            " hNormalization)                                                 \n",
            "                                                                 \n",
            " max_pooling2d_3 (MaxPooling  (None, 110, 110, 128)    0         \n",
            " 2D)                                                             \n",
            "                                                                 \n",
            " conv2d_4 (Conv2D)           (None, 110, 110, 64)      73792     \n",
            "                                                                 \n",
            " dropout_3 (Dropout)         (None, 110, 110, 64)      0         \n",
            "                                                                 \n",
            " max_pooling2d_4 (MaxPooling  (None, 55, 55, 64)       0         \n",
            " 2D)                                                             \n",
            "                                                                 \n",
            " conv2d_5 (Conv2D)           (None, 55, 55, 32)        18464     \n",
            "                                                                 \n",
            " max_pooling2d_5 (MaxPooling  (None, 28, 28, 32)       0         \n",
            " 2D)                                                             \n",
            "                                                                 \n",
            " flatten_1 (Flatten)         (None, 25088)             0         \n",
            "                                                                 \n",
            " dense_3 (Dense)             (None, 1000)              25089000  \n",
            "                                                                 \n",
            " dropout_4 (Dropout)         (None, 1000)              0         \n",
            "                                                                 \n",
            " dense_4 (Dense)             (None, 512)               512512    \n",
            "                                                                 \n",
            " dropout_5 (Dropout)         (None, 512)               0         \n",
            "                                                                 \n",
            " dense_5 (Dense)             (None, 32)                16416     \n",
            "                                                                 \n",
            "=================================================================\n",
            "Total params: 25,711,976\n",
            "Trainable params: 25,711,720\n",
            "Non-trainable params: 256\n",
            "_________________________________________________________________\n"
          ]
        }
      ]
    },
    {
      "cell_type": "code",
      "source": [
        "len(label_encoder.classes_)"
      ],
      "metadata": {
        "id": "np7GdGL2sg4n",
        "outputId": "ba24a1b5-1de5-4d11-8f51-cc54c9d6157e",
        "colab": {
          "base_uri": "https://localhost:8080/"
        }
      },
      "execution_count": null,
      "outputs": [
        {
          "output_type": "execute_result",
          "data": {
            "text/plain": [
              "32"
            ]
          },
          "metadata": {},
          "execution_count": 50
        }
      ]
    },
    {
      "cell_type": "code",
      "source": [
        "model.fit(np.array(X_train_filtered),y_train,epochs = 3)"
      ],
      "metadata": {
        "colab": {
          "base_uri": "https://localhost:8080/"
        },
        "id": "0h2eqhF7BcVx",
        "outputId": "169cf0fd-7737-4628-cccd-85dc3b76c6ed"
      },
      "execution_count": null,
      "outputs": [
        {
          "output_type": "stream",
          "name": "stdout",
          "text": [
            "Epoch 1/3\n",
            "88/88 [==============================] - 25s 285ms/step - loss: 1.2410 - accuracy: 0.6806\n",
            "Epoch 2/3\n",
            "88/88 [==============================] - 25s 284ms/step - loss: 0.4242 - accuracy: 0.8785\n",
            "Epoch 3/3\n",
            "88/88 [==============================] - 25s 284ms/step - loss: 0.1855 - accuracy: 0.9491\n"
          ]
        },
        {
          "output_type": "execute_result",
          "data": {
            "text/plain": [
              "<keras.callbacks.History at 0x7d761f4be470>"
            ]
          },
          "metadata": {},
          "execution_count": 31
        }
      ]
    },
    {
      "cell_type": "code",
      "source": [
        "model.evaluate(np.array(X_test_filtered),y_test)"
      ],
      "metadata": {
        "colab": {
          "base_uri": "https://localhost:8080/"
        },
        "id": "GrU9XCjYBebf",
        "outputId": "b9e6fd92-a00d-4e57-fa95-9dc31bfdf8ef"
      },
      "execution_count": null,
      "outputs": [
        {
          "output_type": "stream",
          "name": "stdout",
          "text": [
            "22/22 [==============================] - 2s 67ms/step - loss: 0.9896 - accuracy: 0.7507\n"
          ]
        },
        {
          "output_type": "execute_result",
          "data": {
            "text/plain": [
              "[0.9896190166473389, 0.7507163286209106]"
            ]
          },
          "metadata": {},
          "execution_count": 34
        }
      ]
    },
    {
      "cell_type": "markdown",
      "source": [
        "## APPLYING TRANSFER LEARNING ARCHITECTURE TO IMPROVE THE MODEL"
      ],
      "metadata": {
        "id": "Q9aWpyagTpcY"
      }
    },
    {
      "cell_type": "code",
      "source": [
        "transfer = tf.keras.applications.vgg16.VGG16(weights = \"imagenet\",input_shape=(220,220,3),include_top=False)\n",
        "transfer.trainable = False"
      ],
      "metadata": {
        "id": "pO9vyo4yTCla"
      },
      "execution_count": 26,
      "outputs": []
    },
    {
      "cell_type": "code",
      "source": [
        "X_train_filtered = np.array([cv.cvtColor(i,cv.COLOR_GRAY2RGB) for i in X_train_filtered])\n",
        "X_test_filtered = np.array([cv.cvtColor(i,cv.COLOR_GRAY2RGB) for i in X_test_filtered])"
      ],
      "metadata": {
        "id": "egxEVo6tR7EI"
      },
      "execution_count": 28,
      "outputs": []
    },
    {
      "cell_type": "code",
      "source": [
        "X_train_filtered.shape"
      ],
      "metadata": {
        "id": "gK89bL4gTzV-",
        "outputId": "d1f85e3f-c970-4b91-b499-c7f6968c0b81",
        "colab": {
          "base_uri": "https://localhost:8080/"
        }
      },
      "execution_count": 30,
      "outputs": [
        {
          "output_type": "execute_result",
          "data": {
            "text/plain": [
              "(2790, 220, 220, 3)"
            ]
          },
          "metadata": {},
          "execution_count": 30
        }
      ]
    },
    {
      "cell_type": "code",
      "source": [
        "cv2_imshow(X_train_filtered[5])"
      ],
      "metadata": {
        "id": "cxIiV67pSJUs",
        "outputId": "0df392a4-b675-4f9e-f594-0ae19fea6c75",
        "colab": {
          "base_uri": "https://localhost:8080/",
          "height": 237
        }
      },
      "execution_count": 29,
      "outputs": [
        {
          "output_type": "display_data",
          "data": {
            "text/plain": [
              "<PIL.Image.Image image mode=RGB size=220x220>"
            ],
            "image/png": "[encoded data removed]"
          },
          "metadata": {}
        }
      ]
    },
    {
      "cell_type": "code",
      "source": [
        "transfer.summary()"
      ],
      "metadata": {
        "id": "mrISC3_uSWHl",
        "outputId": "0bbd8f76-08d9-4385-e570-ddd39d7a4b34",
        "colab": {
          "base_uri": "https://localhost:8080/"
        }
      },
      "execution_count": 32,
      "outputs": [
        {
          "output_type": "stream",
          "name": "stdout",
          "text": [
            "Model: \"vgg16\"\n",
            "_________________________________________________________________\n",
            " Layer (type)                Output Shape              Param #   \n",
            "=================================================================\n",
            " input_4 (InputLayer)        [(None, 220, 220, 3)]     0         \n",
            "                                                                 \n",
            " block1_conv1 (Conv2D)       (None, 220, 220, 64)      1792      \n",
            "                                                                 \n",
            " block1_conv2 (Conv2D)       (None, 220, 220, 64)      36928     \n",
            "                                                                 \n",
            " block1_pool (MaxPooling2D)  (None, 110, 110, 64)      0         \n",
            "                                                                 \n",
            " block2_conv1 (Conv2D)       (None, 110, 110, 128)     73856     \n",
            "                                                                 \n",
            " block2_conv2 (Conv2D)       (None, 110, 110, 128)     147584    \n",
            "                                                                 \n",
            " block2_pool (MaxPooling2D)  (None, 55, 55, 128)       0         \n",
            "                                                                 \n",
            " block3_conv1 (Conv2D)       (None, 55, 55, 256)       295168    \n",
            "                                                                 \n",
            " block3_conv2 (Conv2D)       (None, 55, 55, 256)       590080    \n",
            "                                                                 \n",
            " block3_conv3 (Conv2D)       (None, 55, 55, 256)       590080    \n",
            "                                                                 \n",
            " block3_pool (MaxPooling2D)  (None, 27, 27, 256)       0         \n",
            "                                                                 \n",
            " block4_conv1 (Conv2D)       (None, 27, 27, 512)       1180160   \n",
            "                                                                 \n",
            " block4_conv2 (Conv2D)       (None, 27, 27, 512)       2359808   \n",
            "                                                                 \n",
            " block4_conv3 (Conv2D)       (None, 27, 27, 512)       2359808   \n",
            "                                                                 \n",
            " block4_pool (MaxPooling2D)  (None, 13, 13, 512)       0         \n",
            "                                                                 \n",
            " block5_conv1 (Conv2D)       (None, 13, 13, 512)       2359808   \n",
            "                                                                 \n",
            " block5_conv2 (Conv2D)       (None, 13, 13, 512)       2359808   \n",
            "                                                                 \n",
            " block5_conv3 (Conv2D)       (None, 13, 13, 512)       2359808   \n",
            "                                                                 \n",
            " block5_pool (MaxPooling2D)  (None, 6, 6, 512)         0         \n",
            "                                                                 \n",
            "=================================================================\n",
            "Total params: 14,714,688\n",
            "Trainable params: 0\n",
            "Non-trainable params: 14,714,688\n",
            "_________________________________________________________________\n"
          ]
        }
      ]
    },
    {
      "cell_type": "code",
      "source": [
        "class transfer_model:\n",
        "  def __init__(self,transfer_model,number_dense=2,dense=[128,32],dropout=0.3,output_dim=32):\n",
        "    self.model = tf.keras.Sequential(transfer_model)\n",
        "    self.model.add(tf.keras.layers.Flatten())\n",
        "    for i in range(number_dense):\n",
        "      self.model.add(tf.keras.layers.Dense(dense[i],activation=\"relu\"))\n",
        "      self.model.add(tf.keras.layers.Dropout(dropout))\n",
        "    self.model.add(tf.keras.layers.Dense(output_dim,activation=\"softmax\"))"
      ],
      "metadata": {
        "id": "ksum1XvcT3WO"
      },
      "execution_count": 40,
      "outputs": []
    },
    {
      "cell_type": "code",
      "source": [
        "t_model = transfer_model(transfer).model"
      ],
      "metadata": {
        "id": "Q6r5U8dxVUCB"
      },
      "execution_count": 41,
      "outputs": []
    },
    {
      "cell_type": "code",
      "source": [
        "t_model.compile(optimizer = \"adam\",metrics=['accuracy'],loss = \"sparse_categorical_crossentropy\")"
      ],
      "metadata": {
        "id": "wSPpvsGXVcA6"
      },
      "execution_count": 42,
      "outputs": []
    },
    {
      "cell_type": "code",
      "source": [
        "t_model.summary()"
      ],
      "metadata": {
        "id": "rPNOPDP4Vm6s",
        "outputId": "1ccc4546-8924-49a7-b7de-0512b2d2cb63",
        "colab": {
          "base_uri": "https://localhost:8080/"
        }
      },
      "execution_count": 44,
      "outputs": [
        {
          "output_type": "stream",
          "name": "stdout",
          "text": [
            "Model: \"sequential_2\"\n",
            "_________________________________________________________________\n",
            " Layer (type)                Output Shape              Param #   \n",
            "=================================================================\n",
            " vgg16 (Functional)          (None, 6, 6, 512)         14714688  \n",
            "                                                                 \n",
            " flatten_2 (Flatten)         (None, 18432)             0         \n",
            "                                                                 \n",
            " dense_3 (Dense)             (None, 128)               2359424   \n",
            "                                                                 \n",
            " dropout_2 (Dropout)         (None, 128)               0         \n",
            "                                                                 \n",
            " dense_4 (Dense)             (None, 32)                4128      \n",
            "                                                                 \n",
            " dropout_3 (Dropout)         (None, 32)                0         \n",
            "                                                                 \n",
            " dense_5 (Dense)             (None, 32)                1056      \n",
            "                                                                 \n",
            "=================================================================\n",
            "Total params: 17,079,296\n",
            "Trainable params: 2,364,608\n",
            "Non-trainable params: 14,714,688\n",
            "_________________________________________________________________\n"
          ]
        }
      ]
    },
    {
      "cell_type": "code",
      "source": [
        "es = tf.keras.callbacks.EarlyStopping(monitor='val_accuracy', mode='max', patience=5,  restore_best_weights=True)\n",
        "history = t_model.fit(X_train_filtered,y_train,epochs=6,validation_split=0.2,callbacks=[es])"
      ],
      "metadata": {
        "id": "W5ZY953mVvv5",
        "outputId": "63243e05-d06e-4a94-8e69-779c708160c7",
        "colab": {
          "base_uri": "https://localhost:8080/"
        }
      },
      "execution_count": 53,
      "outputs": [
        {
          "output_type": "stream",
          "name": "stdout",
          "text": [
            "Epoch 1/6\n",
            "70/70 [==============================] - 12s 178ms/step - loss: 1.3200 - accuracy: 0.6201 - val_loss: 0.6504 - val_accuracy: 0.8369\n",
            "Epoch 2/6\n",
            "70/70 [==============================] - 12s 178ms/step - loss: 1.2100 - accuracy: 0.6483 - val_loss: 0.6095 - val_accuracy: 0.8477\n",
            "Epoch 3/6\n",
            "70/70 [==============================] - 12s 176ms/step - loss: 1.2080 - accuracy: 0.6420 - val_loss: 0.5958 - val_accuracy: 0.8548\n",
            "Epoch 4/6\n",
            "70/70 [==============================] - 12s 167ms/step - loss: 1.1620 - accuracy: 0.6644 - val_loss: 0.5709 - val_accuracy: 0.8692\n",
            "Epoch 5/6\n",
            "70/70 [==============================] - 11s 164ms/step - loss: 1.1396 - accuracy: 0.6599 - val_loss: 0.5893 - val_accuracy: 0.8656\n",
            "Epoch 6/6\n",
            "70/70 [==============================] - 12s 168ms/step - loss: 1.2362 - accuracy: 0.6470 - val_loss: 0.5816 - val_accuracy: 0.8674\n"
          ]
        }
      ]
    },
    {
      "cell_type": "code",
      "source": [
        "t_model.evaluate(X_test_filtered,y_test)"
      ],
      "metadata": {
        "id": "uHkSxADDXD24",
        "outputId": "0920752c-07bb-42e4-a9fd-6f42090a4918",
        "colab": {
          "base_uri": "https://localhost:8080/"
        }
      },
      "execution_count": 55,
      "outputs": [
        {
          "output_type": "stream",
          "name": "stdout",
          "text": [
            "22/22 [==============================] - 3s 125ms/step - loss: 0.7550 - accuracy: 0.8252\n"
          ]
        },
        {
          "output_type": "execute_result",
          "data": {
            "text/plain": [
              "[0.7549781203269958, 0.8252149224281311]"
            ]
          },
          "metadata": {},
          "execution_count": 55
        }
      ]
    },
    {
      "cell_type": "code",
      "source": [],
      "metadata": {
        "id": "RQ_JXb4dXQVX"
      },
      "execution_count": null,
      "outputs": []
    }
  ]
}