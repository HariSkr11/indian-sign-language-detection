{
  "nbformat": 4,
  "nbformat_minor": 0,
  "metadata": {
    "colab": {
      "provenance": [],
      "collapsed_sections": [
        "QeBPIm_irkLP",
        "3PeXG5Yn865X",
        "LQQtHj2d9Ij0",
        "g6RturzID78m",
        "NQIFeZNYD-qS",
        "isMcrvEJEM_5",
        "1wccpWAnEZRv",
        "NrrhFT3JLnUk",
        "wCL8rQlxEvHA"
      ],
      "gpuType": "T4",
      "authorship_tag": "ABX9TyPckblSr9Vwi3HjsdAkxSOO",
      "include_colab_link": true
    },
    "kernelspec": {
      "name": "python3",
      "display_name": "Python 3"
    },
    "language_info": {
      "name": "python"
    },
    "accelerator": "GPU"
  },
  "cells": [
    {
      "cell_type": "markdown",
      "metadata": {
        "id": "view-in-github",
        "colab_type": "text"
      },
      "source": [
        "<a href=\"https://colab.research.google.com/github/HariSkr11/indian-sign-language-detection/blob/main/Model.ipynb\" target=\"_parent\"><img src=\"https://colab.research.google.com/assets/colab-badge.svg\" alt=\"Open In Colab\"/></a>"
      ]
    },
    {
      "cell_type": "markdown",
      "source": [
        "# IMPORTING DRIVE"
      ],
      "metadata": {
        "id": "QeBPIm_irkLP"
      }
    },
    {
      "cell_type": "code",
      "execution_count": 2,
      "metadata": {
        "colab": {
          "base_uri": "https://localhost:8080/"
        },
        "id": "Y60RyfqvrYsd",
        "outputId": "f4bd5a99-d13d-4d02-afe1-a2a20d937a6e"
      },
      "outputs": [
        {
          "output_type": "stream",
          "name": "stdout",
          "text": [
            "Mounted at /content/drive\n"
          ]
        }
      ],
      "source": [
        "from google.colab import drive\n",
        "drive.mount(\"/content/drive\")"
      ]
    },
    {
      "cell_type": "markdown",
      "source": [
        "# IMPORTING NECESSARY FUNCTIONS AND MODULES"
      ],
      "metadata": {
        "id": "3PeXG5Yn865X"
      }
    },
    {
      "cell_type": "code",
      "source": [
        "import cv2 as cv\n",
        "import numpy as np\n",
        "import pandas as pd\n",
        "import tensorflow as tf\n",
        "from pickle import load,dump\n",
        "from google.colab.patches import cv2_imshow\n",
        "from matplotlib import pyplot as plt\n",
        "import sklearn"
      ],
      "metadata": {
        "id": "iRaCPbIarwfN"
      },
      "execution_count": 5,
      "outputs": []
    },
    {
      "cell_type": "markdown",
      "source": [
        "# IMPORTING DATA"
      ],
      "metadata": {
        "id": "LQQtHj2d9Ij0"
      }
    },
    {
      "cell_type": "markdown",
      "source": [
        "## IMPORTING TRAIN DATA"
      ],
      "metadata": {
        "id": "g6RturzID78m"
      }
    },
    {
      "cell_type": "code",
      "source": [
        "with open(\"/content/drive/MyDrive/resources_sign/X_train.pkl\",\"rb\") as file_object:\n",
        "  X_train = load(file_object)"
      ],
      "metadata": {
        "id": "1VuQhope9HLM"
      },
      "execution_count": null,
      "outputs": []
    },
    {
      "cell_type": "markdown",
      "source": [
        "## IMPORTING TRAINING LABELS"
      ],
      "metadata": {
        "id": "NQIFeZNYD-qS"
      }
    },
    {
      "cell_type": "code",
      "source": [
        "with open(\"/content/drive/MyDrive/resources_sign/y_train.pkl\",\"rb\") as file_object:\n",
        "  y_train = load(file_object)"
      ],
      "metadata": {
        "id": "oze3GLVEEBiK"
      },
      "execution_count": null,
      "outputs": []
    },
    {
      "cell_type": "markdown",
      "source": [
        "## IMPORTING TESTING DATA"
      ],
      "metadata": {
        "id": "isMcrvEJEM_5"
      }
    },
    {
      "cell_type": "code",
      "source": [
        "with open(\"/content/drive/MyDrive/resources_sign/X_test.pkl\",\"rb\") as file_object:\n",
        "  X_test = load(file_object)"
      ],
      "metadata": {
        "id": "Jc_ohIItEQJH"
      },
      "execution_count": null,
      "outputs": []
    },
    {
      "cell_type": "markdown",
      "source": [
        "## IMPORTING TESTING LABELS"
      ],
      "metadata": {
        "id": "1wccpWAnEZRv"
      }
    },
    {
      "cell_type": "code",
      "source": [
        "with open(\"/content/drive/MyDrive/resources_sign/y_test.pkl\",\"rb\") as file_object:\n",
        "  y_test = load(file_object)"
      ],
      "metadata": {
        "id": "fCZfzp7oEbmV"
      },
      "execution_count": null,
      "outputs": []
    },
    {
      "cell_type": "markdown",
      "source": [
        "## IMPORTING THE LABEL ENCODER"
      ],
      "metadata": {
        "id": "NrrhFT3JLnUk"
      }
    },
    {
      "cell_type": "code",
      "source": [
        "with open(\"/content/drive/MyDrive/resources_sign/Label_encoder.pkl\",\"rb\") as file_object:\n",
        "  label_encoder = load(file_object)"
      ],
      "metadata": {
        "id": "q9Ar0lg2LqiB"
      },
      "execution_count": null,
      "outputs": []
    },
    {
      "cell_type": "markdown",
      "source": [
        "# VISUALIZING AND PREPROCESSING THE DATA"
      ],
      "metadata": {
        "id": "wCL8rQlxEvHA"
      }
    },
    {
      "cell_type": "code",
      "source": [
        "cv2_imshow(X_train[68]*255)"
      ],
      "metadata": {
        "id": "X6TD5fBp9hnn"
      },
      "execution_count": null,
      "outputs": []
    },
    {
      "cell_type": "code",
      "source": [
        "cv2_imshow(X_test[68]*255)"
      ],
      "metadata": {
        "id": "TdI33DtH977R"
      },
      "execution_count": null,
      "outputs": []
    },
    {
      "cell_type": "markdown",
      "source": [
        "## ANALYZING ALL THE LABELS AND THE IMAGES"
      ],
      "metadata": {
        "id": "W9uQo8K7FG03"
      }
    },
    {
      "cell_type": "code",
      "source": [
        "fig,axes = plt.subplots(nrows=2,ncols=4,figsize=(9,7))\n",
        "row = 0\n",
        "col = 0\n",
        "for i in range(9):\n",
        "  if col == 4:\n",
        "    col=0\n",
        "    row+=1\n",
        "    axes[row][col].imshow(X_train[i])\n",
        "    axes[row][col].set_title(label_encoder.inverse_transform([y_train[i]])[0])\n",
        "  else:\n",
        "    axes[row][col].imshow(X_train[i])\n",
        "    axes[row][col].set_title(label_encoder.inverse_transform([y_train[i]])[0])\n",
        "    col+=1"
      ],
      "metadata": {
        "id": "bsb4br9WFMRS"
      },
      "execution_count": null,
      "outputs": []
    },
    {
      "cell_type": "markdown",
      "source": [
        "# APPLYING CANNY EDGE DETECTOR"
      ],
      "metadata": {
        "id": "URloOna5OF3N"
      }
    },
    {
      "cell_type": "markdown",
      "source": [
        "## CHECKING OUT CANNY FILTER"
      ],
      "metadata": {
        "id": "XjZmybpATMKV"
      }
    },
    {
      "cell_type": "code",
      "source": [
        "img = X_train[56]*255\n",
        "grey = cv.cvtColor(img.astype(np.uint8),cv.COLOR_BGR2GRAY)\n",
        "blur = cv.blur(grey,ksize=(5,5))\n",
        "med_val = np.median(blur)\n",
        "lower = int(max(0 ,0.7*med_val))\n",
        "upper = int(min(255,1.3*med_val))\n",
        "cv2_imshow(blur)\n",
        "edges = cv.Canny(image=blur, threshold1=lower,threshold2=upper)\n",
        "cv2_imshow(edges)"
      ],
      "metadata": {
        "id": "WM3PU7fhOI6R"
      },
      "execution_count": null,
      "outputs": []
    },
    {
      "cell_type": "markdown",
      "source": [
        "## MAKING CANNY FUNCTION FOR EVERY IMAGES"
      ],
      "metadata": {
        "id": "0qto2tZtTPKv"
      }
    },
    {
      "cell_type": "code",
      "source": [
        "def apply_canny_filter(img):\n",
        "  img = img*255\n",
        "  img = cv.cvtColor(img.astype(np.uint8),cv.COLOR_BGR2GRAY)\n",
        "  blur = cv.blur(img,ksize=(5,5))\n",
        "  med_val = np.median(blur)\n",
        "  lower = int(max(0 ,0.7*med_val))\n",
        "  upper = int(min(255,1.3*med_val))\n",
        "  return cv.Canny(image=blur, threshold1=lower,threshold2=upper)"
      ],
      "metadata": {
        "id": "q8IoSogUOaNp"
      },
      "execution_count": null,
      "outputs": []
    },
    {
      "cell_type": "markdown",
      "source": [
        "## APPLYING THE FILTER TO EVERY IMAGES"
      ],
      "metadata": {
        "id": "SiEvrST3TT6G"
      }
    },
    {
      "cell_type": "code",
      "source": [
        "X_train_filtered = []\n",
        "for image in X_train:\n",
        "  X_train_filtered.append(apply_canny_filter(image))"
      ],
      "metadata": {
        "id": "mLZU9he0TTYu"
      },
      "execution_count": null,
      "outputs": []
    },
    {
      "cell_type": "code",
      "source": [
        "cv2_imshow(X_train_filtered[1980])"
      ],
      "metadata": {
        "id": "ovR6idJTTkBQ"
      },
      "execution_count": null,
      "outputs": []
    },
    {
      "cell_type": "markdown",
      "source": [
        "## PREPROCESSING TEST SET"
      ],
      "metadata": {
        "id": "HjdHK19WWNe5"
      }
    },
    {
      "cell_type": "code",
      "source": [
        "X_test_filtered = []\n",
        "for image in X_test:\n",
        "  X_test_filtered.append(apply_canny_filter(image))"
      ],
      "metadata": {
        "id": "1HboBpiITvZu"
      },
      "execution_count": null,
      "outputs": []
    },
    {
      "cell_type": "code",
      "source": [
        "cv2_imshow(X_test_filtered[250])"
      ],
      "metadata": {
        "id": "gieQ1Ad0WVOw"
      },
      "execution_count": null,
      "outputs": []
    },
    {
      "cell_type": "markdown",
      "source": [
        "## STORING THE FILTERED DATA BACK AS PKL FILES"
      ],
      "metadata": {
        "id": "wFSZstS4WlOY"
      }
    },
    {
      "cell_type": "code",
      "source": [
        "with open(\"/content/drive/MyDrive/resources_sign/X_train_filtered.pkl\",\"wb\") as file_object:\n",
        "  dump(X_train_filtered,file_object)"
      ],
      "metadata": {
        "id": "Wv2fdDxiWZP_"
      },
      "execution_count": null,
      "outputs": []
    },
    {
      "cell_type": "code",
      "source": [
        "with open(\"/content/drive/MyDrive/resources_sign/X_test_filtered.pkl\",\"wb\") as file_object:\n",
        "  dump(X_test_filtered,file_object)"
      ],
      "metadata": {
        "id": "26mHrnrDW7zz"
      },
      "execution_count": null,
      "outputs": []
    },
    {
      "cell_type": "markdown",
      "source": [
        "# OPENING THE FILTERED DATA FOR TRAINING"
      ],
      "metadata": {
        "id": "qSrFqrXZYk5-"
      }
    },
    {
      "cell_type": "code",
      "source": [
        "from pickle import load,dump\n",
        "with open(\"/content/drive/MyDrive/resources_sign/X_train_filtered.pkl\",\"rb\") as file_object:\n",
        "  X_train_filtered=load(file_object)\n",
        "with open(\"/content/drive/MyDrive/resources_sign/X_test_filtered.pkl\",\"rb\") as file_object:\n",
        "  X_test_filtered=load(file_object)\n",
        "with open(\"/content/drive/MyDrive/resources_sign/y_train.pkl\",\"rb\") as file_object:\n",
        "  y_train=load(file_object)\n",
        "with open(\"/content/drive/MyDrive/resources_sign/y_test.pkl\",\"rb\") as file_object:\n",
        "  y_test=load(file_object)"
      ],
      "metadata": {
        "id": "91rWPr4YYqqd"
      },
      "execution_count": 3,
      "outputs": []
    },
    {
      "cell_type": "markdown",
      "source": [
        "# MAKING THE MODEL"
      ],
      "metadata": {
        "id": "MsG8CaPfgzkN"
      }
    },
    {
      "cell_type": "markdown",
      "source": [
        "## MODELS"
      ],
      "metadata": {
        "id": "Q7_kI67QAQYG"
      }
    },
    {
      "cell_type": "markdown",
      "source": [
        "## MODEL 1"
      ],
      "metadata": {
        "id": "NBsnfdYwTm9K"
      }
    },
    {
      "cell_type": "code",
      "source": [
        "from keras.layers import Dense, Conv2D , MaxPool2D , Flatten , Dropout , BatchNormalization\n",
        "from keras.models import Sequential\n",
        "class Sign_model:\n",
        "  def __init__(self,input_shape,classes = 32):\n",
        "    model = Sequential()\n",
        "    model.add(Conv2D(128, (3, 3), input_shape=(220, 220,1),strides=1, padding='same', activation='relu'))\n",
        "    model.add(BatchNormalization())\n",
        "    model.add(MaxPool2D((2,2) , strides = 2 , padding = 'same'))\n",
        "    model.add(Conv2D(64, (3,3) , strides = 1 , padding = 'same' , activation = 'relu'))\n",
        "    model.add(Dropout(0.3))\n",
        "    model.add(MaxPool2D((2,2) , strides = 2 , padding = 'same'))\n",
        "    model.add(Conv2D(32, (3,3) , strides = 1 , padding = 'same' , activation = 'relu'))\n",
        "    model.add(MaxPool2D((2,2) , strides = 2 , padding = 'same'))\n",
        "    model.add(Flatten())\n",
        "    model.add(Dense(units = 1000 , activation = 'relu'))\n",
        "    model.add(Dropout(0.3))\n",
        "    model.add(Dense(units = 512 , activation = 'relu'))\n",
        "    model.add(Dropout(0.3))\n",
        "    model.add(Dense(units = 32 , activation = 'softmax'))\n",
        "    model.compile(optimizer=\"adam\",metrics = ['accuracy'],loss = \"sparse_categorical_crossentropy\")\n",
        "    self.model = model"
      ],
      "metadata": {
        "id": "xQQX90PdATER"
      },
      "execution_count": null,
      "outputs": []
    },
    {
      "cell_type": "code",
      "source": [
        "model_object = Sign_model((220,220))\n",
        "model = model_object.model"
      ],
      "metadata": {
        "id": "Uk6avr_silsE"
      },
      "execution_count": null,
      "outputs": []
    },
    {
      "cell_type": "code",
      "source": [
        "model.summary()"
      ],
      "metadata": {
        "colab": {
          "base_uri": "https://localhost:8080/"
        },
        "id": "UxJ4-PnT_5MS",
        "outputId": "6303bcc9-d60d-46c2-8f5c-dc1adb3d6800"
      },
      "execution_count": null,
      "outputs": [
        {
          "output_type": "stream",
          "name": "stdout",
          "text": [
            "Model: \"sequential_1\"\n",
            "_________________________________________________________________\n",
            " Layer (type)                Output Shape              Param #   \n",
            "=================================================================\n",
            " conv2d_3 (Conv2D)           (None, 220, 220, 128)     1280      \n",
            "                                                                 \n",
            " batch_normalization_1 (Batc  (None, 220, 220, 128)    512       \n",
            " hNormalization)                                                 \n",
            "                                                                 \n",
            " max_pooling2d_3 (MaxPooling  (None, 110, 110, 128)    0         \n",
            " 2D)                                                             \n",
            "                                                                 \n",
            " conv2d_4 (Conv2D)           (None, 110, 110, 64)      73792     \n",
            "                                                                 \n",
            " dropout_3 (Dropout)         (None, 110, 110, 64)      0         \n",
            "                                                                 \n",
            " max_pooling2d_4 (MaxPooling  (None, 55, 55, 64)       0         \n",
            " 2D)                                                             \n",
            "                                                                 \n",
            " conv2d_5 (Conv2D)           (None, 55, 55, 32)        18464     \n",
            "                                                                 \n",
            " max_pooling2d_5 (MaxPooling  (None, 28, 28, 32)       0         \n",
            " 2D)                                                             \n",
            "                                                                 \n",
            " flatten_1 (Flatten)         (None, 25088)             0         \n",
            "                                                                 \n",
            " dense_3 (Dense)             (None, 1000)              25089000  \n",
            "                                                                 \n",
            " dropout_4 (Dropout)         (None, 1000)              0         \n",
            "                                                                 \n",
            " dense_4 (Dense)             (None, 512)               512512    \n",
            "                                                                 \n",
            " dropout_5 (Dropout)         (None, 512)               0         \n",
            "                                                                 \n",
            " dense_5 (Dense)             (None, 32)                16416     \n",
            "                                                                 \n",
            "=================================================================\n",
            "Total params: 25,711,976\n",
            "Trainable params: 25,711,720\n",
            "Non-trainable params: 256\n",
            "_________________________________________________________________\n"
          ]
        }
      ]
    },
    {
      "cell_type": "code",
      "source": [
        "len(label_encoder.classes_)"
      ],
      "metadata": {
        "id": "np7GdGL2sg4n",
        "outputId": "ba24a1b5-1de5-4d11-8f51-cc54c9d6157e",
        "colab": {
          "base_uri": "https://localhost:8080/"
        }
      },
      "execution_count": null,
      "outputs": [
        {
          "output_type": "execute_result",
          "data": {
            "text/plain": [
              "32"
            ]
          },
          "metadata": {},
          "execution_count": 50
        }
      ]
    },
    {
      "cell_type": "code",
      "source": [
        "model.fit(np.array(X_train_filtered),y_train,epochs = 3)"
      ],
      "metadata": {
        "colab": {
          "base_uri": "https://localhost:8080/"
        },
        "id": "0h2eqhF7BcVx",
        "outputId": "169cf0fd-7737-4628-cccd-85dc3b76c6ed"
      },
      "execution_count": null,
      "outputs": [
        {
          "output_type": "stream",
          "name": "stdout",
          "text": [
            "Epoch 1/3\n",
            "88/88 [==============================] - 25s 285ms/step - loss: 1.2410 - accuracy: 0.6806\n",
            "Epoch 2/3\n",
            "88/88 [==============================] - 25s 284ms/step - loss: 0.4242 - accuracy: 0.8785\n",
            "Epoch 3/3\n",
            "88/88 [==============================] - 25s 284ms/step - loss: 0.1855 - accuracy: 0.9491\n"
          ]
        },
        {
          "output_type": "execute_result",
          "data": {
            "text/plain": [
              "<keras.callbacks.History at 0x7d761f4be470>"
            ]
          },
          "metadata": {},
          "execution_count": 31
        }
      ]
    },
    {
      "cell_type": "code",
      "source": [
        "model.evaluate(np.array(X_test_filtered),y_test)"
      ],
      "metadata": {
        "colab": {
          "base_uri": "https://localhost:8080/"
        },
        "id": "GrU9XCjYBebf",
        "outputId": "b9e6fd92-a00d-4e57-fa95-9dc31bfdf8ef"
      },
      "execution_count": null,
      "outputs": [
        {
          "output_type": "stream",
          "name": "stdout",
          "text": [
            "22/22 [==============================] - 2s 67ms/step - loss: 0.9896 - accuracy: 0.7507\n"
          ]
        },
        {
          "output_type": "execute_result",
          "data": {
            "text/plain": [
              "[0.9896190166473389, 0.7507163286209106]"
            ]
          },
          "metadata": {},
          "execution_count": 34
        }
      ]
    },
    {
      "cell_type": "markdown",
      "source": [
        "## APPLYING TRANSFER LEARNING ARCHITECTURE TO IMPROVE THE MODEL"
      ],
      "metadata": {
        "id": "Q9aWpyagTpcY"
      }
    },
    {
      "cell_type": "markdown",
      "source": [
        "## LOADING THE MODEL"
      ],
      "metadata": {
        "id": "3ms0MxdhX-Yu"
      }
    },
    {
      "cell_type": "code",
      "source": [
        "transfer = tf.keras.applications.vgg16.VGG16(weights = \"imagenet\",input_shape=(220,220,3),include_top=False)\n",
        "transfer.trainable = False"
      ],
      "metadata": {
        "id": "pO9vyo4yTCla",
        "colab": {
          "base_uri": "https://localhost:8080/"
        },
        "outputId": "ecc42459-c206-4c75-a9f7-6b526781d89d"
      },
      "execution_count": 6,
      "outputs": [
        {
          "output_type": "stream",
          "name": "stdout",
          "text": [
            "Downloading data from https://storage.googleapis.com/tensorflow/keras-applications/vgg16/vgg16_weights_tf_dim_ordering_tf_kernels_notop.h5\n",
            "58889256/58889256 [==============================] - 3s 0us/step\n"
          ]
        }
      ]
    },
    {
      "cell_type": "markdown",
      "source": [
        "## TRANSFORMING THE INPUTS ACCORDING TO THE MODEL"
      ],
      "metadata": {
        "id": "F193Q7nBYA2-"
      }
    },
    {
      "cell_type": "code",
      "source": [
        "X_train_filtered = np.array([cv.cvtColor(i,cv.COLOR_GRAY2RGB) for i in X_train_filtered])\n",
        "X_test_filtered = np.array([cv.cvtColor(i,cv.COLOR_GRAY2RGB) for i in X_test_filtered])"
      ],
      "metadata": {
        "id": "egxEVo6tR7EI"
      },
      "execution_count": 7,
      "outputs": []
    },
    {
      "cell_type": "code",
      "source": [
        "X_train_filtered.shape"
      ],
      "metadata": {
        "colab": {
          "base_uri": "https://localhost:8080/"
        },
        "id": "gK89bL4gTzV-",
        "outputId": "29b91dee-5666-4933-9eba-71875d4fd824"
      },
      "execution_count": 8,
      "outputs": [
        {
          "output_type": "execute_result",
          "data": {
            "text/plain": [
              "(2790, 220, 220, 3)"
            ]
          },
          "metadata": {},
          "execution_count": 8
        }
      ]
    },
    {
      "cell_type": "code",
      "source": [
        "cv2_imshow(X_train_filtered[5])"
      ],
      "metadata": {
        "colab": {
          "base_uri": "https://localhost:8080/",
          "height": 237
        },
        "id": "cxIiV67pSJUs",
        "outputId": "50d74507-87d7-44f2-ae75-8fc99f45a78a"
      },
      "execution_count": 9,
      "outputs": [
        {
          "output_type": "display_data",
          "data": {
            "text/plain": [
              "<PIL.Image.Image image mode=RGB size=220x220>"
            ],
            "image/png": "[encoded data removed]"
          },
          "metadata": {}
        }
      ]
    },
    {
      "cell_type": "markdown",
      "source": [
        "## GOING THROUGH THE MODEL"
      ],
      "metadata": {
        "id": "W06Pms_eYKB4"
      }
    },
    {
      "cell_type": "code",
      "source": [
        "transfer.summary()"
      ],
      "metadata": {
        "colab": {
          "base_uri": "https://localhost:8080/"
        },
        "id": "mrISC3_uSWHl",
        "outputId": "8836c2ff-b8e9-4a7b-8370-0ce58a89b1ac"
      },
      "execution_count": 10,
      "outputs": [
        {
          "output_type": "stream",
          "name": "stdout",
          "text": [
            "Model: \"vgg16\"\n",
            "_________________________________________________________________\n",
            " Layer (type)                Output Shape              Param #   \n",
            "=================================================================\n",
            " input_1 (InputLayer)        [(None, 220, 220, 3)]     0         \n",
            "                                                                 \n",
            " block1_conv1 (Conv2D)       (None, 220, 220, 64)      1792      \n",
            "                                                                 \n",
            " block1_conv2 (Conv2D)       (None, 220, 220, 64)      36928     \n",
            "                                                                 \n",
            " block1_pool (MaxPooling2D)  (None, 110, 110, 64)      0         \n",
            "                                                                 \n",
            " block2_conv1 (Conv2D)       (None, 110, 110, 128)     73856     \n",
            "                                                                 \n",
            " block2_conv2 (Conv2D)       (None, 110, 110, 128)     147584    \n",
            "                                                                 \n",
            " block2_pool (MaxPooling2D)  (None, 55, 55, 128)       0         \n",
            "                                                                 \n",
            " block3_conv1 (Conv2D)       (None, 55, 55, 256)       295168    \n",
            "                                                                 \n",
            " block3_conv2 (Conv2D)       (None, 55, 55, 256)       590080    \n",
            "                                                                 \n",
            " block3_conv3 (Conv2D)       (None, 55, 55, 256)       590080    \n",
            "                                                                 \n",
            " block3_pool (MaxPooling2D)  (None, 27, 27, 256)       0         \n",
            "                                                                 \n",
            " block4_conv1 (Conv2D)       (None, 27, 27, 512)       1180160   \n",
            "                                                                 \n",
            " block4_conv2 (Conv2D)       (None, 27, 27, 512)       2359808   \n",
            "                                                                 \n",
            " block4_conv3 (Conv2D)       (None, 27, 27, 512)       2359808   \n",
            "                                                                 \n",
            " block4_pool (MaxPooling2D)  (None, 13, 13, 512)       0         \n",
            "                                                                 \n",
            " block5_conv1 (Conv2D)       (None, 13, 13, 512)       2359808   \n",
            "                                                                 \n",
            " block5_conv2 (Conv2D)       (None, 13, 13, 512)       2359808   \n",
            "                                                                 \n",
            " block5_conv3 (Conv2D)       (None, 13, 13, 512)       2359808   \n",
            "                                                                 \n",
            " block5_pool (MaxPooling2D)  (None, 6, 6, 512)         0         \n",
            "                                                                 \n",
            "=================================================================\n",
            "Total params: 14714688 (56.13 MB)\n",
            "Trainable params: 0 (0.00 Byte)\n",
            "Non-trainable params: 14714688 (56.13 MB)\n",
            "_________________________________________________________________\n"
          ]
        }
      ]
    },
    {
      "cell_type": "markdown",
      "source": [
        "## BUILDING THE MODEL"
      ],
      "metadata": {
        "id": "g6v3nfHeYTTA"
      }
    },
    {
      "cell_type": "code",
      "source": [
        "class transfer_model:\n",
        "  def __init__(self,transfer_model,number_dense=3,dense=[256,128,64],dropout=0.1,output_dim=32):\n",
        "    self.model = tf.keras.Sequential(transfer_model)\n",
        "    self.model.add(tf.keras.layers.Flatten())\n",
        "    for i in range(number_dense):\n",
        "      self.model.add(tf.keras.layers.Dense(dense[i],activation=\"relu\"))\n",
        "      self.model.add(tf.keras.layers.Dropout(dropout))\n",
        "    self.model.add(tf.keras.layers.Dense(output_dim,activation=\"softmax\"))"
      ],
      "metadata": {
        "id": "ksum1XvcT3WO"
      },
      "execution_count": 62,
      "outputs": []
    },
    {
      "cell_type": "code",
      "source": [
        "t_model = transfer_model(transfer,number_dense=4,dense=[512,256,128,64]).model"
      ],
      "metadata": {
        "id": "Q6r5U8dxVUCB"
      },
      "execution_count": 63,
      "outputs": []
    },
    {
      "cell_type": "markdown",
      "source": [
        "## COMPILING THE MODEL"
      ],
      "metadata": {
        "id": "GIKp1RFFYWYi"
      }
    },
    {
      "cell_type": "code",
      "source": [
        "t_model.compile(optimizer = \"adam\",metrics=['accuracy'],loss = \"sparse_categorical_crossentropy\")"
      ],
      "metadata": {
        "id": "wSPpvsGXVcA6"
      },
      "execution_count": 64,
      "outputs": []
    },
    {
      "cell_type": "code",
      "source": [
        "t_model.summary()"
      ],
      "metadata": {
        "colab": {
          "base_uri": "https://localhost:8080/"
        },
        "id": "rPNOPDP4Vm6s",
        "outputId": "84f8a2de-b803-4760-9039-bd7d349c11fd"
      },
      "execution_count": 65,
      "outputs": [
        {
          "output_type": "stream",
          "name": "stdout",
          "text": [
            "Model: \"sequential_7\"\n",
            "_________________________________________________________________\n",
            " Layer (type)                Output Shape              Param #   \n",
            "=================================================================\n",
            " vgg16 (Functional)          (None, 6, 6, 512)         14714688  \n",
            "                                                                 \n",
            " flatten_7 (Flatten)         (None, 18432)             0         \n",
            "                                                                 \n",
            " dense_28 (Dense)            (None, 512)               9437696   \n",
            "                                                                 \n",
            " dropout_8 (Dropout)         (None, 512)               0         \n",
            "                                                                 \n",
            " dense_29 (Dense)            (None, 256)               131328    \n",
            "                                                                 \n",
            " dropout_9 (Dropout)         (None, 256)               0         \n",
            "                                                                 \n",
            " dense_30 (Dense)            (None, 128)               32896     \n",
            "                                                                 \n",
            " dropout_10 (Dropout)        (None, 128)               0         \n",
            "                                                                 \n",
            " dense_31 (Dense)            (None, 64)                8256      \n",
            "                                                                 \n",
            " dropout_11 (Dropout)        (None, 64)                0         \n",
            "                                                                 \n",
            " dense_32 (Dense)            (None, 32)                2080      \n",
            "                                                                 \n",
            "=================================================================\n",
            "Total params: 24326944 (92.80 MB)\n",
            "Trainable params: 9612256 (36.67 MB)\n",
            "Non-trainable params: 14714688 (56.13 MB)\n",
            "_________________________________________________________________\n"
          ]
        }
      ]
    },
    {
      "cell_type": "markdown",
      "source": [
        "### HISTORY CREATION"
      ],
      "metadata": {
        "id": "k0oTeO7HbAvd"
      }
    },
    {
      "cell_type": "code",
      "source": [
        "loss_list = []\n",
        "accuracy_list = []\n",
        "val_loss = []\n",
        "val_accuracy = []"
      ],
      "metadata": {
        "id": "W5okjfnTW9KT"
      },
      "execution_count": 80,
      "outputs": []
    },
    {
      "cell_type": "markdown",
      "source": [
        "## FITTING THE MODEL"
      ],
      "metadata": {
        "id": "y562RuXTYbfW"
      }
    },
    {
      "cell_type": "code",
      "source": [
        "es = tf.keras.callbacks.EarlyStopping(monitor='val_accuracy', mode='max', patience=5,  restore_best_weights=True)\n",
        "history = t_model.fit(X_train_filtered,y_train,epochs=15,validation_split=0.2,callbacks=[es])"
      ],
      "metadata": {
        "colab": {
          "base_uri": "https://localhost:8080/"
        },
        "id": "W5ZY953mVvv5",
        "outputId": "778818eb-e4dd-48c4-91af-3b989e6ce341"
      },
      "execution_count": 66,
      "outputs": [
        {
          "output_type": "stream",
          "name": "stdout",
          "text": [
            "Epoch 1/15\n",
            "70/70 [==============================] - 14s 171ms/step - loss: 4.0995 - accuracy: 0.2339 - val_loss: 1.8647 - val_accuracy: 0.5251\n",
            "Epoch 2/15\n",
            "70/70 [==============================] - 11s 153ms/step - loss: 1.8030 - accuracy: 0.5157 - val_loss: 1.2129 - val_accuracy: 0.6667\n",
            "Epoch 3/15\n",
            "70/70 [==============================] - 11s 161ms/step - loss: 1.2233 - accuracy: 0.6662 - val_loss: 0.9288 - val_accuracy: 0.7545\n",
            "Epoch 4/15\n",
            "70/70 [==============================] - 11s 160ms/step - loss: 0.8158 - accuracy: 0.7818 - val_loss: 0.8063 - val_accuracy: 0.7867\n",
            "Epoch 5/15\n",
            "70/70 [==============================] - 11s 160ms/step - loss: 0.5890 - accuracy: 0.8311 - val_loss: 0.5986 - val_accuracy: 0.8387\n",
            "Epoch 6/15\n",
            "70/70 [==============================] - 11s 159ms/step - loss: 0.5337 - accuracy: 0.8495 - val_loss: 0.6828 - val_accuracy: 0.8297\n",
            "Epoch 7/15\n",
            "70/70 [==============================] - 11s 161ms/step - loss: 0.4048 - accuracy: 0.8858 - val_loss: 0.7548 - val_accuracy: 0.8351\n",
            "Epoch 8/15\n",
            "70/70 [==============================] - 11s 159ms/step - loss: 0.3145 - accuracy: 0.9135 - val_loss: 0.6409 - val_accuracy: 0.8602\n",
            "Epoch 9/15\n",
            "70/70 [==============================] - 12s 167ms/step - loss: 0.2162 - accuracy: 0.9422 - val_loss: 0.7671 - val_accuracy: 0.8674\n",
            "Epoch 10/15\n",
            "70/70 [==============================] - 11s 161ms/step - loss: 0.2104 - accuracy: 0.9391 - val_loss: 0.5668 - val_accuracy: 0.8781\n",
            "Epoch 11/15\n",
            "70/70 [==============================] - 11s 156ms/step - loss: 0.1786 - accuracy: 0.9485 - val_loss: 0.5720 - val_accuracy: 0.8817\n",
            "Epoch 12/15\n",
            "70/70 [==============================] - 11s 162ms/step - loss: 0.1825 - accuracy: 0.9534 - val_loss: 0.8369 - val_accuracy: 0.8638\n",
            "Epoch 13/15\n",
            "70/70 [==============================] - 11s 158ms/step - loss: 0.2332 - accuracy: 0.9400 - val_loss: 0.8005 - val_accuracy: 0.8566\n",
            "Epoch 14/15\n",
            "70/70 [==============================] - 11s 157ms/step - loss: 0.2183 - accuracy: 0.9525 - val_loss: 0.7062 - val_accuracy: 0.8710\n",
            "Epoch 15/15\n",
            "70/70 [==============================] - 11s 163ms/step - loss: 0.2169 - accuracy: 0.9503 - val_loss: 0.7871 - val_accuracy: 0.8584\n"
          ]
        }
      ]
    },
    {
      "cell_type": "markdown",
      "source": [
        "### ADDING HISTORY DATA"
      ],
      "metadata": {
        "id": "k8huf85BbN-b"
      }
    },
    {
      "cell_type": "code",
      "source": [
        "loss_list+=history.history['loss']\n",
        "accuracy_list = history.history['accuracy']\n",
        "val_loss+=history.history['val_loss']\n",
        "val_accuracy += history.history['val_accuracy']"
      ],
      "metadata": {
        "id": "wfCwO4DPXMro"
      },
      "execution_count": 81,
      "outputs": []
    },
    {
      "cell_type": "markdown",
      "source": [
        "### VISUALIZING THE MODEL PERFOMANCE"
      ],
      "metadata": {
        "id": "VeFtQ12QbWCf"
      }
    },
    {
      "cell_type": "code",
      "source": [
        "fig,axes = plt.subplots(nrows=1,ncols=2,figsize=(15,7))\n",
        "axes[0].set_title(\"\\nVARIATION OF LOSS V/S EPOCHS\\n\")\n",
        "axes[0].plot(loss_list,label=\"Training loss\")\n",
        "axes[0].plot(val_loss,label = \"Validation loss\",linestyle = \"dashed\")\n",
        "axes[0].legend(loc=\"upper right\")\n",
        "\n",
        "axes[1].set_title(\"\\nVARIATION OF ACCURACY V/S EPOCHS\\n\")\n",
        "axes[1].plot(accuracy_list,label = \"Training Accuracy\")\n",
        "axes[1].plot(val_accuracy,label = \"Validation Accuracy\",linestyle = \"dashed\")\n",
        "axes[1].legend(loc=\"lower right\")\n",
        "fig.show()"
      ],
      "metadata": {
        "colab": {
          "base_uri": "https://localhost:8080/",
          "height": 603
        },
        "id": "cdCHgIavYMKO",
        "outputId": "f125cc66-ff30-44ff-f51b-d38ca4abf25d"
      },
      "execution_count": 91,
      "outputs": [
        {
          "output_type": "display_data",
          "data": {
            "text/plain": [
              "<Figure size 1500x700 with 2 Axes>"
            ],
            "image/png": "[encoded data removed]"
          },
          "metadata": {}
        }
      ]
    },
    {
      "cell_type": "markdown",
      "source": [
        "## EVALUATING THE MODEL"
      ],
      "metadata": {
        "id": "6QUYTZlmYmON"
      }
    },
    {
      "cell_type": "code",
      "source": [
        "t_model.evaluate(X_test_filtered,y_test)"
      ],
      "metadata": {
        "colab": {
          "base_uri": "https://localhost:8080/"
        },
        "id": "dlsmHpaoUkky",
        "outputId": "7147d304-c484-4a60-e722-c5557ce2b518"
      },
      "execution_count": 67,
      "outputs": [
        {
          "output_type": "stream",
          "name": "stdout",
          "text": [
            "22/22 [==============================] - 3s 119ms/step - loss: 0.8128 - accuracy: 0.8553\n"
          ]
        },
        {
          "output_type": "execute_result",
          "data": {
            "text/plain": [
              "[0.81284499168396, 0.8553008437156677]"
            ]
          },
          "metadata": {},
          "execution_count": 67
        }
      ]
    },
    {
      "cell_type": "code",
      "source": [
        "history.history['loss']"
      ],
      "metadata": {
        "colab": {
          "base_uri": "https://localhost:8080/"
        },
        "id": "ToeXol7IWBXA",
        "outputId": "47f6299e-08fe-4376-d52e-bf0b17b32cdd"
      },
      "execution_count": 59,
      "outputs": [
        {
          "output_type": "execute_result",
          "data": {
            "text/plain": [
              "[0.12105065584182739,\n",
              " 0.15258242189884186,\n",
              " 0.1851447969675064,\n",
              " 0.10792947560548782]"
            ]
          },
          "metadata": {},
          "execution_count": 59
        }
      ]
    }
  ]
}